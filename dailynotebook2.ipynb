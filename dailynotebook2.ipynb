{
 "cells": [
  {
   "cell_type": "markdown",
   "id": "275f4b59-6102-4070-9038-1aab19b4550e",
   "metadata": {},
   "source": [
    "# Daily Notebook #2"
   ]
  },
  {
   "cell_type": "markdown",
   "id": "0cbd24f0-0149-4363-808c-c35ff8bb5f60",
   "metadata": {},
   "source": [
    "### Current State"
   ]
  },
  {
   "cell_type": "markdown",
   "id": "7f41112d-29e9-4357-8c9b-ac431330b284",
   "metadata": {},
   "source": [
    "- Current Course: Data Analyst in Python: Data Manipulation\n",
    "- Todays Notes: learned various basics of data manipulation. I am already comfortable with most of it, but using the notebook today to practice."
   ]
  },
  {
   "cell_type": "markdown",
   "id": "31586125-1f88-4c9a-a557-744c7df1d40b",
   "metadata": {},
   "source": [
    "### Goals"
   ]
  },
  {
   "cell_type": "markdown",
   "id": "f542c2c9-9757-459c-b355-2ca59c93b015",
   "metadata": {},
   "source": []
  },
  {
   "cell_type": "markdown",
   "id": "6b11f052-a366-49d8-8332-9673e1f71dd5",
   "metadata": {},
   "source": [
    "### Dataset for Today"
   ]
  },
  {
   "cell_type": "markdown",
   "id": "f5f5da34-1772-457a-88a5-10e88ef65268",
   "metadata": {},
   "source": [
    "y"
   ]
  },
  {
   "cell_type": "markdown",
   "id": "00f4aaeb-3c31-457a-8374-debfebde6c82",
   "metadata": {},
   "source": [
    "### Code"
   ]
  },
  {
   "cell_type": "code",
   "execution_count": null,
   "id": "72168788-dc19-426a-a9de-35e5917c68c3",
   "metadata": {},
   "outputs": [],
   "source": []
  }
 ],
 "metadata": {
  "kernelspec": {
   "display_name": "Python 3 (ipykernel)",
   "language": "python",
   "name": "python3"
  },
  "language_info": {
   "codemirror_mode": {
    "name": "ipython",
    "version": 3
   },
   "file_extension": ".py",
   "mimetype": "text/x-python",
   "name": "python",
   "nbconvert_exporter": "python",
   "pygments_lexer": "ipython3",
   "version": "3.10.9"
  }
 },
 "nbformat": 4,
 "nbformat_minor": 5
}
