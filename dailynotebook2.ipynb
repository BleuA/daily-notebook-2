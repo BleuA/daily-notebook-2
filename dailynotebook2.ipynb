{
 "cells": [
  {
   "cell_type": "markdown",
   "id": "275f4b59-6102-4070-9038-1aab19b4550e",
   "metadata": {},
   "source": [
    "# Daily Notebook #2"
   ]
  },
  {
   "cell_type": "markdown",
   "id": "0cbd24f0-0149-4363-808c-c35ff8bb5f60",
   "metadata": {},
   "source": [
    "### Current State"
   ]
  },
  {
   "cell_type": "markdown",
   "id": "7f41112d-29e9-4357-8c9b-ac431330b284",
   "metadata": {},
   "source": [
    "- Current Course: Data Analyst in Python: Data Manipulation\n",
    "- Todays Notes: datacamp course chapter reviewed groupbys and pivot tables."
   ]
  },
  {
   "cell_type": "markdown",
   "id": "31586125-1f88-4c9a-a557-744c7df1d40b",
   "metadata": {},
   "source": [
    "### Goals"
   ]
  },
  {
   "cell_type": "markdown",
   "id": "f542c2c9-9757-459c-b355-2ca59c93b015",
   "metadata": {},
   "source": [
    "- I had a thought - to start off with notebooks before I start the study process to review what I learned yesterday. That way im implementing some repetition and recall. So every night after study, ill write down the main concepts learned, and the next day as a start to the study session I will code my daily notebook"
   ]
  },
  {
   "cell_type": "markdown",
   "id": "6b11f052-a366-49d8-8332-9673e1f71dd5",
   "metadata": {},
   "source": [
    "### Dataset for Today"
   ]
  },
  {
   "cell_type": "markdown",
   "id": "f5f5da34-1772-457a-88a5-10e88ef65268",
   "metadata": {},
   "source": [
    "Choclate sales - https://www.kaggle.com/datasets/atharvasoundankar/chocolate-sales"
   ]
  },
  {
   "cell_type": "markdown",
   "id": "00f4aaeb-3c31-457a-8374-debfebde6c82",
   "metadata": {},
   "source": [
    "### Code"
   ]
  },
  {
   "cell_type": "code",
   "execution_count": 1,
   "id": "72168788-dc19-426a-a9de-35e5917c68c3",
   "metadata": {},
   "outputs": [
    {
     "data": {
      "text/html": [
       "<div>\n",
       "<style scoped>\n",
       "    .dataframe tbody tr th:only-of-type {\n",
       "        vertical-align: middle;\n",
       "    }\n",
       "\n",
       "    .dataframe tbody tr th {\n",
       "        vertical-align: top;\n",
       "    }\n",
       "\n",
       "    .dataframe thead th {\n",
       "        text-align: right;\n",
       "    }\n",
       "</style>\n",
       "<table border=\"1\" class=\"dataframe\">\n",
       "  <thead>\n",
       "    <tr style=\"text-align: right;\">\n",
       "      <th></th>\n",
       "      <th>Sales Person</th>\n",
       "      <th>Country</th>\n",
       "      <th>Product</th>\n",
       "      <th>Date</th>\n",
       "      <th>Amount</th>\n",
       "      <th>Boxes Shipped</th>\n",
       "    </tr>\n",
       "  </thead>\n",
       "  <tbody>\n",
       "    <tr>\n",
       "      <th>0</th>\n",
       "      <td>Jehu Rudeforth</td>\n",
       "      <td>UK</td>\n",
       "      <td>Mint Chip Choco</td>\n",
       "      <td>04-Jan-22</td>\n",
       "      <td>$5,320</td>\n",
       "      <td>180</td>\n",
       "    </tr>\n",
       "    <tr>\n",
       "      <th>1</th>\n",
       "      <td>Van Tuxwell</td>\n",
       "      <td>India</td>\n",
       "      <td>85% Dark Bars</td>\n",
       "      <td>01-Aug-22</td>\n",
       "      <td>$7,896</td>\n",
       "      <td>94</td>\n",
       "    </tr>\n",
       "    <tr>\n",
       "      <th>2</th>\n",
       "      <td>Gigi Bohling</td>\n",
       "      <td>India</td>\n",
       "      <td>Peanut Butter Cubes</td>\n",
       "      <td>07-Jul-22</td>\n",
       "      <td>$4,501</td>\n",
       "      <td>91</td>\n",
       "    </tr>\n",
       "    <tr>\n",
       "      <th>3</th>\n",
       "      <td>Jan Morforth</td>\n",
       "      <td>Australia</td>\n",
       "      <td>Peanut Butter Cubes</td>\n",
       "      <td>27-Apr-22</td>\n",
       "      <td>$12,726</td>\n",
       "      <td>342</td>\n",
       "    </tr>\n",
       "    <tr>\n",
       "      <th>4</th>\n",
       "      <td>Jehu Rudeforth</td>\n",
       "      <td>UK</td>\n",
       "      <td>Peanut Butter Cubes</td>\n",
       "      <td>24-Feb-22</td>\n",
       "      <td>$13,685</td>\n",
       "      <td>184</td>\n",
       "    </tr>\n",
       "  </tbody>\n",
       "</table>\n",
       "</div>"
      ],
      "text/plain": [
       "     Sales Person    Country              Product       Date    Amount  \\\n",
       "0  Jehu Rudeforth         UK      Mint Chip Choco  04-Jan-22   $5,320    \n",
       "1     Van Tuxwell      India        85% Dark Bars  01-Aug-22   $7,896    \n",
       "2    Gigi Bohling      India  Peanut Butter Cubes  07-Jul-22   $4,501    \n",
       "3    Jan Morforth  Australia  Peanut Butter Cubes  27-Apr-22  $12,726    \n",
       "4  Jehu Rudeforth         UK  Peanut Butter Cubes  24-Feb-22  $13,685    \n",
       "\n",
       "   Boxes Shipped  \n",
       "0            180  \n",
       "1             94  \n",
       "2             91  \n",
       "3            342  \n",
       "4            184  "
      ]
     },
     "execution_count": 1,
     "metadata": {},
     "output_type": "execute_result"
    }
   ],
   "source": [
    "import pandas as pd\n",
    "\n",
    "df = pd.read_csv('Chocolate Sales.csv')\n",
    "df.head()"
   ]
  },
  {
   "cell_type": "markdown",
   "id": "883f30e9-63e6-4892-86a1-62ee237f90f6",
   "metadata": {},
   "source": [
    "### Data Cleaning"
   ]
  },
  {
   "cell_type": "markdown",
   "id": "79630c8d-a0f8-45d1-8e38-273bd2599cfe",
   "metadata": {},
   "source": [
    "Carrying over some fixes that I figured out in my previous notebook. Added a resource to get the datetime formatting correct. "
   ]
  },
  {
   "cell_type": "code",
   "execution_count": 2,
   "id": "38f7698a-d349-462c-9cfd-4aabd4a2c6a9",
   "metadata": {},
   "outputs": [],
   "source": [
    "# Data cleaning\n",
    "\n",
    "#I already knew some of the issues with the dataset and fix them here. \n",
    "#https://docs.python.org/3/library/datetime.html#strftime-and-strptime-behavior\n",
    "df['Amount'] = df['Amount'].str.replace(r'[$,]', '', regex=True).astype(int)\n",
    "df['Date'] = pd.to_datetime(df['Date'], format = '%d-%b-%y')"
   ]
  },
  {
   "cell_type": "code",
   "execution_count": 3,
   "id": "314a35c0-a777-48bc-bd49-73bf49aa0f96",
   "metadata": {},
   "outputs": [
    {
     "name": "stdout",
     "output_type": "stream",
     "text": [
      "<class 'pandas.core.frame.DataFrame'>\n",
      "RangeIndex: 1094 entries, 0 to 1093\n",
      "Data columns (total 6 columns):\n",
      " #   Column         Non-Null Count  Dtype         \n",
      "---  ------         --------------  -----         \n",
      " 0   Sales Person   1094 non-null   object        \n",
      " 1   Country        1094 non-null   object        \n",
      " 2   Product        1094 non-null   object        \n",
      " 3   Date           1094 non-null   datetime64[ns]\n",
      " 4   Amount         1094 non-null   int32         \n",
      " 5   Boxes Shipped  1094 non-null   int64         \n",
      "dtypes: datetime64[ns](1), int32(1), int64(1), object(3)\n",
      "memory usage: 47.1+ KB\n"
     ]
    }
   ],
   "source": [
    "df.info()"
   ]
  },
  {
   "cell_type": "markdown",
   "id": "a6975571-e1ea-48bd-ae14-cddd7352535e",
   "metadata": {},
   "source": [
    "### Analysis"
   ]
  },
  {
   "cell_type": "markdown",
   "id": "b5e45011-48ec-4a3d-bcff-4ccd091f9300",
   "metadata": {},
   "source": [
    "Goal: 2 groupbys and 2 pivot tables"
   ]
  },
  {
   "cell_type": "markdown",
   "id": "e8335554-a40e-4f7b-b855-d5f3c750f65e",
   "metadata": {},
   "source": [
    "First starting with the basic creations to practice the syntax:"
   ]
  },
  {
   "cell_type": "code",
   "execution_count": 4,
   "id": "ee65d4cc-06f8-461c-beba-540d632dd534",
   "metadata": {},
   "outputs": [
    {
     "data": {
      "text/html": [
       "<div>\n",
       "<style scoped>\n",
       "    .dataframe tbody tr th:only-of-type {\n",
       "        vertical-align: middle;\n",
       "    }\n",
       "\n",
       "    .dataframe tbody tr th {\n",
       "        vertical-align: top;\n",
       "    }\n",
       "\n",
       "    .dataframe thead th {\n",
       "        text-align: right;\n",
       "    }\n",
       "</style>\n",
       "<table border=\"1\" class=\"dataframe\">\n",
       "  <thead>\n",
       "    <tr style=\"text-align: right;\">\n",
       "      <th></th>\n",
       "      <th>Sales Person</th>\n",
       "      <th>Amount</th>\n",
       "    </tr>\n",
       "  </thead>\n",
       "  <tbody>\n",
       "    <tr>\n",
       "      <th>5</th>\n",
       "      <td>Ches Bonnell</td>\n",
       "      <td>320901</td>\n",
       "    </tr>\n",
       "    <tr>\n",
       "      <th>20</th>\n",
       "      <td>Oby Sorrel</td>\n",
       "      <td>316645</td>\n",
       "    </tr>\n",
       "    <tr>\n",
       "      <th>17</th>\n",
       "      <td>Madelene Upcott</td>\n",
       "      <td>316099</td>\n",
       "    </tr>\n",
       "    <tr>\n",
       "      <th>3</th>\n",
       "      <td>Brien Boise</td>\n",
       "      <td>312816</td>\n",
       "    </tr>\n",
       "    <tr>\n",
       "      <th>16</th>\n",
       "      <td>Kelci Walkden</td>\n",
       "      <td>311710</td>\n",
       "    </tr>\n",
       "    <tr>\n",
       "      <th>23</th>\n",
       "      <td>Van Tuxwell</td>\n",
       "      <td>303149</td>\n",
       "    </tr>\n",
       "    <tr>\n",
       "      <th>7</th>\n",
       "      <td>Dennison Crosswaite</td>\n",
       "      <td>291669</td>\n",
       "    </tr>\n",
       "    <tr>\n",
       "      <th>2</th>\n",
       "      <td>Beverie Moffet</td>\n",
       "      <td>278922</td>\n",
       "    </tr>\n",
       "    <tr>\n",
       "      <th>14</th>\n",
       "      <td>Kaine Padly</td>\n",
       "      <td>266490</td>\n",
       "    </tr>\n",
       "    <tr>\n",
       "      <th>19</th>\n",
       "      <td>Marney O'Breen</td>\n",
       "      <td>259742</td>\n",
       "    </tr>\n",
       "  </tbody>\n",
       "</table>\n",
       "</div>"
      ],
      "text/plain": [
       "           Sales Person  Amount\n",
       "5          Ches Bonnell  320901\n",
       "20           Oby Sorrel  316645\n",
       "17      Madelene Upcott  316099\n",
       "3           Brien Boise  312816\n",
       "16        Kelci Walkden  311710\n",
       "23          Van Tuxwell  303149\n",
       "7   Dennison Crosswaite  291669\n",
       "2        Beverie Moffet  278922\n",
       "14          Kaine Padly  266490\n",
       "19       Marney O'Breen  259742"
      ]
     },
     "execution_count": 4,
     "metadata": {},
     "output_type": "execute_result"
    }
   ],
   "source": [
    "#Total Sales By Sales person\n",
    "top_sales = df.groupby('Sales Person')['Amount'].sum().reset_index().sort_values('Amount', ascending = False)\n",
    "top_sales.head(10)"
   ]
  },
  {
   "cell_type": "code",
   "execution_count": 5,
   "id": "8774e472-7fe3-484a-bd3e-fa3a32ea475c",
   "metadata": {},
   "outputs": [
    {
     "data": {
      "text/html": [
       "<div>\n",
       "<style scoped>\n",
       "    .dataframe tbody tr th:only-of-type {\n",
       "        vertical-align: middle;\n",
       "    }\n",
       "\n",
       "    .dataframe tbody tr th {\n",
       "        vertical-align: top;\n",
       "    }\n",
       "\n",
       "    .dataframe thead th {\n",
       "        text-align: right;\n",
       "    }\n",
       "</style>\n",
       "<table border=\"1\" class=\"dataframe\">\n",
       "  <thead>\n",
       "    <tr style=\"text-align: right;\">\n",
       "      <th></th>\n",
       "      <th>Sales Person</th>\n",
       "      <th>Amount</th>\n",
       "    </tr>\n",
       "  </thead>\n",
       "  <tbody>\n",
       "    <tr>\n",
       "      <th>5</th>\n",
       "      <td>Ches Bonnell</td>\n",
       "      <td>320901</td>\n",
       "    </tr>\n",
       "    <tr>\n",
       "      <th>20</th>\n",
       "      <td>Oby Sorrel</td>\n",
       "      <td>316645</td>\n",
       "    </tr>\n",
       "    <tr>\n",
       "      <th>17</th>\n",
       "      <td>Madelene Upcott</td>\n",
       "      <td>316099</td>\n",
       "    </tr>\n",
       "    <tr>\n",
       "      <th>3</th>\n",
       "      <td>Brien Boise</td>\n",
       "      <td>312816</td>\n",
       "    </tr>\n",
       "    <tr>\n",
       "      <th>16</th>\n",
       "      <td>Kelci Walkden</td>\n",
       "      <td>311710</td>\n",
       "    </tr>\n",
       "    <tr>\n",
       "      <th>23</th>\n",
       "      <td>Van Tuxwell</td>\n",
       "      <td>303149</td>\n",
       "    </tr>\n",
       "    <tr>\n",
       "      <th>7</th>\n",
       "      <td>Dennison Crosswaite</td>\n",
       "      <td>291669</td>\n",
       "    </tr>\n",
       "    <tr>\n",
       "      <th>2</th>\n",
       "      <td>Beverie Moffet</td>\n",
       "      <td>278922</td>\n",
       "    </tr>\n",
       "    <tr>\n",
       "      <th>14</th>\n",
       "      <td>Kaine Padly</td>\n",
       "      <td>266490</td>\n",
       "    </tr>\n",
       "    <tr>\n",
       "      <th>19</th>\n",
       "      <td>Marney O'Breen</td>\n",
       "      <td>259742</td>\n",
       "    </tr>\n",
       "  </tbody>\n",
       "</table>\n",
       "</div>"
      ],
      "text/plain": [
       "           Sales Person  Amount\n",
       "5          Ches Bonnell  320901\n",
       "20           Oby Sorrel  316645\n",
       "17      Madelene Upcott  316099\n",
       "3           Brien Boise  312816\n",
       "16        Kelci Walkden  311710\n",
       "23          Van Tuxwell  303149\n",
       "7   Dennison Crosswaite  291669\n",
       "2        Beverie Moffet  278922\n",
       "14          Kaine Padly  266490\n",
       "19       Marney O'Breen  259742"
      ]
     },
     "execution_count": 5,
     "metadata": {},
     "output_type": "execute_result"
    }
   ],
   "source": [
    "#Total Sales by Sales person Pivot Table\n",
    "total_sales = df.pivot_table(values ='Amount', index = 'Sales Person', aggfunc = 'sum') \\\n",
    "                .reset_index() \\\n",
    "                .sort_values('Amount', ascending = False)\n",
    "total_sales.head(10)"
   ]
  },
  {
   "cell_type": "code",
   "execution_count": 6,
   "id": "8dddc980-9101-494b-83f8-ea31cd2af834",
   "metadata": {},
   "outputs": [
    {
     "data": {
      "text/html": [
       "<div>\n",
       "<style scoped>\n",
       "    .dataframe tbody tr th:only-of-type {\n",
       "        vertical-align: middle;\n",
       "    }\n",
       "\n",
       "    .dataframe tbody tr th {\n",
       "        vertical-align: top;\n",
       "    }\n",
       "\n",
       "    .dataframe thead th {\n",
       "        text-align: right;\n",
       "    }\n",
       "</style>\n",
       "<table border=\"1\" class=\"dataframe\">\n",
       "  <thead>\n",
       "    <tr style=\"text-align: right;\">\n",
       "      <th></th>\n",
       "      <th>Country</th>\n",
       "      <th>Product</th>\n",
       "      <th>Amount</th>\n",
       "    </tr>\n",
       "  </thead>\n",
       "  <tbody>\n",
       "    <tr>\n",
       "      <th>0</th>\n",
       "      <td>Australia</td>\n",
       "      <td>50% Dark Bites</td>\n",
       "      <td>89222</td>\n",
       "    </tr>\n",
       "    <tr>\n",
       "      <th>1</th>\n",
       "      <td>Australia</td>\n",
       "      <td>70% Dark Bites</td>\n",
       "      <td>39354</td>\n",
       "    </tr>\n",
       "    <tr>\n",
       "      <th>2</th>\n",
       "      <td>Australia</td>\n",
       "      <td>85% Dark Bars</td>\n",
       "      <td>38479</td>\n",
       "    </tr>\n",
       "    <tr>\n",
       "      <th>3</th>\n",
       "      <td>Australia</td>\n",
       "      <td>99% Dark &amp; Pure</td>\n",
       "      <td>54908</td>\n",
       "    </tr>\n",
       "    <tr>\n",
       "      <th>4</th>\n",
       "      <td>Australia</td>\n",
       "      <td>After Nines</td>\n",
       "      <td>27769</td>\n",
       "    </tr>\n",
       "    <tr>\n",
       "      <th>...</th>\n",
       "      <td>...</td>\n",
       "      <td>...</td>\n",
       "      <td>...</td>\n",
       "    </tr>\n",
       "    <tr>\n",
       "      <th>127</th>\n",
       "      <td>USA</td>\n",
       "      <td>Peanut Butter Cubes</td>\n",
       "      <td>33628</td>\n",
       "    </tr>\n",
       "    <tr>\n",
       "      <th>128</th>\n",
       "      <td>USA</td>\n",
       "      <td>Raspberry Choco</td>\n",
       "      <td>83524</td>\n",
       "    </tr>\n",
       "    <tr>\n",
       "      <th>129</th>\n",
       "      <td>USA</td>\n",
       "      <td>Smooth Sliky Salty</td>\n",
       "      <td>45493</td>\n",
       "    </tr>\n",
       "    <tr>\n",
       "      <th>130</th>\n",
       "      <td>USA</td>\n",
       "      <td>Spicy Special Slims</td>\n",
       "      <td>25214</td>\n",
       "    </tr>\n",
       "    <tr>\n",
       "      <th>131</th>\n",
       "      <td>USA</td>\n",
       "      <td>White Choc</td>\n",
       "      <td>67221</td>\n",
       "    </tr>\n",
       "  </tbody>\n",
       "</table>\n",
       "<p>132 rows × 3 columns</p>\n",
       "</div>"
      ],
      "text/plain": [
       "       Country              Product  Amount\n",
       "0    Australia       50% Dark Bites   89222\n",
       "1    Australia       70% Dark Bites   39354\n",
       "2    Australia        85% Dark Bars   38479\n",
       "3    Australia      99% Dark & Pure   54908\n",
       "4    Australia          After Nines   27769\n",
       "..         ...                  ...     ...\n",
       "127        USA  Peanut Butter Cubes   33628\n",
       "128        USA      Raspberry Choco   83524\n",
       "129        USA   Smooth Sliky Salty   45493\n",
       "130        USA  Spicy Special Slims   25214\n",
       "131        USA           White Choc   67221\n",
       "\n",
       "[132 rows x 3 columns]"
      ]
     },
     "execution_count": 6,
     "metadata": {},
     "output_type": "execute_result"
    }
   ],
   "source": [
    "#best performing products per country. Goal is to practice multiple varaibles grouped. Also want to show total margins\n",
    "prod_per_country = df.groupby(['Country', 'Product'])['Amount'].sum().reset_index()\n",
    "prod_per_country"
   ]
  },
  {
   "cell_type": "code",
   "execution_count": 7,
   "id": "2b9fe71d-0a65-4396-a181-0fec308dba57",
   "metadata": {},
   "outputs": [],
   "source": [
    "#I want to try pulling out the top product per country, since the last dataframe is informative but hard to digest\n",
    "#I cant think of a way to do this off the top, think I need to loop through countries and then get the max from prev df\n",
    "#prod_per_country[(prod_per_country['Country'] == 'Australia')].sort_values(by = 'Amount', ascending = False)\n",
    "countries = prod_per_country['Country'].unique()\n",
    "\n",
    "all_data = []\n",
    "for country in countries:\n",
    "    df = prod_per_country[(prod_per_country['Country'] == country)].sort_values(by = 'Amount', ascending = False).head(1)\n",
    "    all_data.append(df)\n",
    "\n",
    "top_products_per_country = pd.concat(all_data)"
   ]
  },
  {
   "cell_type": "code",
   "execution_count": 8,
   "id": "8a98e774-f2d9-4faf-b0c1-e128c61c0675",
   "metadata": {},
   "outputs": [
    {
     "data": {
      "text/html": [
       "<div>\n",
       "<style scoped>\n",
       "    .dataframe tbody tr th:only-of-type {\n",
       "        vertical-align: middle;\n",
       "    }\n",
       "\n",
       "    .dataframe tbody tr th {\n",
       "        vertical-align: top;\n",
       "    }\n",
       "\n",
       "    .dataframe thead th {\n",
       "        text-align: right;\n",
       "    }\n",
       "</style>\n",
       "<table border=\"1\" class=\"dataframe\">\n",
       "  <thead>\n",
       "    <tr style=\"text-align: right;\">\n",
       "      <th></th>\n",
       "      <th>Country</th>\n",
       "      <th>Product</th>\n",
       "      <th>Amount</th>\n",
       "    </tr>\n",
       "  </thead>\n",
       "  <tbody>\n",
       "    <tr>\n",
       "      <th>0</th>\n",
       "      <td>Australia</td>\n",
       "      <td>50% Dark Bites</td>\n",
       "      <td>89222</td>\n",
       "    </tr>\n",
       "    <tr>\n",
       "      <th>80</th>\n",
       "      <td>New Zealand</td>\n",
       "      <td>Mint Chip Choco</td>\n",
       "      <td>86709</td>\n",
       "    </tr>\n",
       "    <tr>\n",
       "      <th>128</th>\n",
       "      <td>USA</td>\n",
       "      <td>Raspberry Choco</td>\n",
       "      <td>83524</td>\n",
       "    </tr>\n",
       "    <tr>\n",
       "      <th>105</th>\n",
       "      <td>UK</td>\n",
       "      <td>Peanut Butter Cubes</td>\n",
       "      <td>79695</td>\n",
       "    </tr>\n",
       "    <tr>\n",
       "      <th>54</th>\n",
       "      <td>India</td>\n",
       "      <td>Eclairs</td>\n",
       "      <td>79009</td>\n",
       "    </tr>\n",
       "    <tr>\n",
       "      <th>41</th>\n",
       "      <td>Canada</td>\n",
       "      <td>Smooth Sliky Salty</td>\n",
       "      <td>68257</td>\n",
       "    </tr>\n",
       "  </tbody>\n",
       "</table>\n",
       "</div>"
      ],
      "text/plain": [
       "         Country              Product  Amount\n",
       "0      Australia       50% Dark Bites   89222\n",
       "80   New Zealand      Mint Chip Choco   86709\n",
       "128          USA      Raspberry Choco   83524\n",
       "105           UK  Peanut Butter Cubes   79695\n",
       "54         India              Eclairs   79009\n",
       "41        Canada   Smooth Sliky Salty   68257"
      ]
     },
     "execution_count": 8,
     "metadata": {},
     "output_type": "execute_result"
    }
   ],
   "source": [
    "top_products_per_country.sort_values('Amount', ascending = False)"
   ]
  },
  {
   "cell_type": "markdown",
   "id": "24fc7b26-0308-4515-bf71-fceb1be82f3c",
   "metadata": {},
   "source": [
    "Notes on the above code - I had to fumble around a little bit, and ultimately got the idea to concat outside the for loop from google - was a recommended performance improver. I thought that was good to note and practice - create the dataframes, save to a list the concat at once. \n",
    "\n",
    "I struggled for a while on the final formatting and concating of teh dataframes - formatting was strange. Was using .iloc[0] to ge tthe top value per country and didnbt work well. finally remembered to use head. Going to look into a better solution or see how close chatgpt would get to what I did."
   ]
  },
  {
   "cell_type": "markdown",
   "id": "c2013a12-0b85-43c3-9e6e-d0d48f3148d1",
   "metadata": {},
   "source": [
    "AI Solution:"
   ]
  },
  {
   "cell_type": "code",
   "execution_count": 9,
   "id": "ec0cf6dd-0eab-44a5-b33a-aa6eb01f2bf0",
   "metadata": {},
   "outputs": [
    {
     "data": {
      "text/html": [
       "<div>\n",
       "<style scoped>\n",
       "    .dataframe tbody tr th:only-of-type {\n",
       "        vertical-align: middle;\n",
       "    }\n",
       "\n",
       "    .dataframe tbody tr th {\n",
       "        vertical-align: top;\n",
       "    }\n",
       "\n",
       "    .dataframe thead th {\n",
       "        text-align: right;\n",
       "    }\n",
       "</style>\n",
       "<table border=\"1\" class=\"dataframe\">\n",
       "  <thead>\n",
       "    <tr style=\"text-align: right;\">\n",
       "      <th></th>\n",
       "      <th>Country</th>\n",
       "      <th>Product</th>\n",
       "      <th>Amount</th>\n",
       "    </tr>\n",
       "  </thead>\n",
       "  <tbody>\n",
       "    <tr>\n",
       "      <th>0</th>\n",
       "      <td>Australia</td>\n",
       "      <td>50% Dark Bites</td>\n",
       "      <td>89222</td>\n",
       "    </tr>\n",
       "    <tr>\n",
       "      <th>1</th>\n",
       "      <td>Canada</td>\n",
       "      <td>Smooth Sliky Salty</td>\n",
       "      <td>68257</td>\n",
       "    </tr>\n",
       "    <tr>\n",
       "      <th>2</th>\n",
       "      <td>India</td>\n",
       "      <td>Eclairs</td>\n",
       "      <td>79009</td>\n",
       "    </tr>\n",
       "    <tr>\n",
       "      <th>3</th>\n",
       "      <td>New Zealand</td>\n",
       "      <td>Mint Chip Choco</td>\n",
       "      <td>86709</td>\n",
       "    </tr>\n",
       "    <tr>\n",
       "      <th>4</th>\n",
       "      <td>UK</td>\n",
       "      <td>Peanut Butter Cubes</td>\n",
       "      <td>79695</td>\n",
       "    </tr>\n",
       "    <tr>\n",
       "      <th>5</th>\n",
       "      <td>USA</td>\n",
       "      <td>Raspberry Choco</td>\n",
       "      <td>83524</td>\n",
       "    </tr>\n",
       "  </tbody>\n",
       "</table>\n",
       "</div>"
      ],
      "text/plain": [
       "       Country              Product  Amount\n",
       "0    Australia       50% Dark Bites   89222\n",
       "1       Canada   Smooth Sliky Salty   68257\n",
       "2        India              Eclairs   79009\n",
       "3  New Zealand      Mint Chip Choco   86709\n",
       "4           UK  Peanut Butter Cubes   79695\n",
       "5          USA      Raspberry Choco   83524"
      ]
     },
     "execution_count": 9,
     "metadata": {},
     "output_type": "execute_result"
    }
   ],
   "source": [
    "prod_per_country.loc[prod_per_country.groupby(['Country'])['Amount'].idxmax()].reset_index(drop = True)"
   ]
  },
  {
   "cell_type": "markdown",
   "id": "38aef8d1-74b7-484d-af0d-7b8629f04a34",
   "metadata": {},
   "source": [
    "My issues:\n",
    "- I didnt know about idxmax function\n",
    "- still feeling fuzzy after reading explanations about why we are using loc -> but I think I understand that it is the index label, and with index labels we use loc. \n",
    "- Also noted from research that you should reset_index, drop = true, inplace = true if you want iloc consistency. So index 1 is positon 1. "
   ]
  },
  {
   "cell_type": "markdown",
   "id": "e8dfef70-d0d4-4a55-85d2-8c4414251cea",
   "metadata": {},
   "source": [
    "# Reflection"
   ]
  },
  {
   "cell_type": "markdown",
   "id": "cb60ac5c-4f81-4c85-b125-93bb2bbe5c2b",
   "metadata": {},
   "source": [
    " - Learned about inxmax()\n",
    " - learned a little more about loc and iloc \n",
    " - practiced the basics of grouping and pivots. Didnt get as advanced as I wanted but I fell down a rabbit hole trying to challenge myself to do something I didnt really know how to do right away - so thats fine\n",
    " "
   ]
  },
  {
   "cell_type": "code",
   "execution_count": null,
   "id": "230c7b38-f03a-4a67-8ad7-282b4d387185",
   "metadata": {},
   "outputs": [],
   "source": []
  }
 ],
 "metadata": {
  "kernelspec": {
   "display_name": "Python 3 (ipykernel)",
   "language": "python",
   "name": "python3"
  },
  "language_info": {
   "codemirror_mode": {
    "name": "ipython",
    "version": 3
   },
   "file_extension": ".py",
   "mimetype": "text/x-python",
   "name": "python",
   "nbconvert_exporter": "python",
   "pygments_lexer": "ipython3",
   "version": "3.10.9"
  }
 },
 "nbformat": 4,
 "nbformat_minor": 5
}
